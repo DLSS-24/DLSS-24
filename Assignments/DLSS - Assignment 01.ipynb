{
 "cells": [
  {
   "cell_type": "markdown",
   "id": "12b5dcd8",
   "metadata": {},
   "source": [
    "# Deep Learning for Social Sciences\n",
    "## Assignment 01\n",
    "To be handed in by 7.5.2024 23:59 at [https://github.com/orgs/DLSS-24/](https://github.com/orgs/DLSS-24/).\n",
    "\n",
    "These materials were developed by [Max Pellert](https://mpellert.at) building in parts on work by [Simon J.D. Prince](https://udlbook.github.io/udlbook/)."
   ]
  },
  {
   "cell_type": "markdown",
   "id": "8349ddc5",
   "metadata": {},
   "source": [
    "### Task 01.01 (14 points)\n",
    "\n",
    "Do a literature research to find a research paper that fulfills the following criteria:\n",
    "\n",
    "* There is an application in the social sciences (broadly)\n",
    "* The authors use neural nets for a substantial part of their analysis, in particular they rely on a method from the domain of deep learning\n",
    "* The work is at maximum three years old (has been published after the 15th of April 2021)\n",
    "* It was published in a journal, as a conference publication or as pre-print (for example on arXiv)\n",
    "\n",
    "Provide a few paragraphs (1/2 page each, ~250 words) of text covering those three points (1 1/2 pages in total, ~750 words):\n",
    "\n",
    "* In one sentence, state your intial motivation to choose the paper. Then provide a review of the work, starting with a short summary, then identfying key strengths as well as weaknesses and finally provide an overall assessment of the quality of the work.\n",
    "\n",
    "* Do background research on the specific method from the domain of neural nets and deep learning specifically that the authors used. Identify and read at least one of the key references connected to the specific method and cite it. Give a short characterisation of the connection of that method to the current state of the art of deep learning and try to place that method historically in the field. Mention if the method is in any way specific to the problem that it was used for by the authors and reconstruct the rationale behind the choice of exactly that method.\n",
    "\n",
    "* Review the publication outlet of your work. If it was published in a journal, describe the focus of that journal and do a quick search in the last published editions of that journal to assess if they regularly publish works with a connection to deep learning there. If it was published in conference proceedings, do a background research on the conference and situate it in the broader field it belongs too. If the work was published as pre-print, try to find if it was published in other form in another outlet. If not, use the metadata on the pre-print platform (as for example the category the work was placed in) to characterise it further. In any case, for all different forms of publication outlets, do a background research on the authors and provide a short assessment of their fields, research groups and typical research topics."
   ]
  },
  {
   "cell_type": "markdown",
   "id": "1e62506a",
   "metadata": {},
   "source": []
  },
  {
   "cell_type": "markdown",
   "id": "df5d640a",
   "metadata": {},
   "source": []
  },
  {
   "cell_type": "markdown",
   "id": "bbcabe8e",
   "metadata": {},
   "source": []
  },
  {
   "cell_type": "markdown",
   "id": "0cfe9038",
   "metadata": {},
   "source": [
    "### Task 01.02 (6 points)"
   ]
  },
  {
   "cell_type": "markdown",
   "id": "ce6ec6ad",
   "metadata": {},
   "source": [
    "In this task, you will explore the linear regression model discussed in Chapter 2 of the book \"Understanding Deep Learning\". Equation and Figure numbers refer to this book. Work through the cells below, running each cell in turn. Wherever you see the words \"TO DO\", follow the instructions at these places and write code to complete the functions. These code completions in those places will be the basis for our evaluation of your performance on this task."
   ]
  },
  {
   "cell_type": "code",
   "execution_count": null,
   "id": "fa6364ba",
   "metadata": {},
   "outputs": [],
   "source": [
    "# Math library\n",
    "import numpy as np\n",
    "# Plotting library\n",
    "import matplotlib.pyplot as plt"
   ]
  },
  {
   "cell_type": "code",
   "execution_count": null,
   "id": "9550cfaf",
   "metadata": {
    "scrolled": true
   },
   "outputs": [],
   "source": [
    "# Create some example input / output data\n",
    "x = np.array([0.03, 0.19, 0.34, 0.46, 0.78, 0.81, 1.08, 1.18, 1.39, 1.60, 1.65, 1.90])\n",
    "y = np.array([0.67, 0.85, 1.05, 1.0, 1.40, 1.5, 1.3, 1.54, 1.55, 1.68, 1.73, 1.6 ])\n",
    "\n",
    "print(x)\n",
    "print(y)"
   ]
  },
  {
   "cell_type": "code",
   "execution_count": null,
   "id": "43965905",
   "metadata": {},
   "outputs": [],
   "source": [
    "# Define 1D linear regression model\n",
    "def f(x, phi0, phi1):\n",
    "  # TODO :  Replace this line with the linear regression model (eq 2.4)\n",
    "  y = x\n",
    "\n",
    "  return y"
   ]
  },
  {
   "cell_type": "code",
   "execution_count": null,
   "id": "0a86d6d9",
   "metadata": {},
   "outputs": [],
   "source": [
    "# Function to help plot the data\n",
    "def plot(x, y, phi0, phi1):\n",
    "    fig,ax = plt.subplots()\n",
    "    ax.scatter(x,y)\n",
    "    plt.xlim([0,2.0])\n",
    "    plt.ylim([0,2.0])\n",
    "    ax.set_xlabel('Input, $x$')\n",
    "    ax.set_ylabel('Output, $y$')\n",
    "    # Draw line\n",
    "    x_line = np.arange(0,2,0.01)\n",
    "    y_line = f(x_line, phi0, phi1)\n",
    "    plt.plot(x_line, y_line,'b-',lw=2)\n",
    "\n",
    "    plt.show()"
   ]
  },
  {
   "cell_type": "code",
   "execution_count": null,
   "id": "c8ebb05f",
   "metadata": {},
   "outputs": [],
   "source": [
    "# Set the intercept and slope as in figure 2.2b\n",
    "phi0 = 0.4 ; phi1 = 0.2\n",
    "# Plot the data and the model\n",
    "plot(x,y,phi0,phi1)"
   ]
  },
  {
   "cell_type": "code",
   "execution_count": null,
   "id": "d3883532",
   "metadata": {},
   "outputs": [],
   "source": [
    "# Function to calculate the loss\n",
    "def compute_loss(x,y,phi0,phi1):\n",
    "\n",
    "  # TODO Replace this line with the loss calculation (equation 2.5)\n",
    "  loss = 0\n",
    "\n",
    "  return loss"
   ]
  },
  {
   "cell_type": "code",
   "execution_count": null,
   "id": "8f75b7be",
   "metadata": {},
   "outputs": [],
   "source": [
    "# Compute the loss for our current model\n",
    "loss = compute_loss(x,y,phi0,phi1)\n",
    "print(f'Your Loss = {loss:3.2f}, Ground truth = 7.07')"
   ]
  },
  {
   "cell_type": "code",
   "execution_count": null,
   "id": "58775c8b",
   "metadata": {},
   "outputs": [],
   "source": [
    "# Set the intercept and slope as in figure 2.2c\n",
    "phi0 = 1.60 ; phi1 =-0.8\n",
    "# Plot the data and the model\n",
    "plot(x,y,phi0,phi1)\n",
    "loss = compute_loss(x,y,phi0,phi1)\n",
    "print(f'Your Loss = {loss:3.2f}, Ground truth = 10.28')"
   ]
  },
  {
   "cell_type": "code",
   "execution_count": null,
   "id": "ec5ca3a4",
   "metadata": {},
   "outputs": [],
   "source": [
    "# TO DO -- Change the parameters manually to fit the model\n",
    "# First fix phi1 and try changing phi0 until you can't make the loss go down any more\n",
    "# Then fix phi0 and try changing phi1 until you can't make the loss go down any more\n",
    "# Repeat this process until you find a set of parameters that fit the model as in figure 2.2d\n",
    "# You can either do this by hand, or if you want to get fancy, write code to descent automatically in this way\n",
    "phi0 = 1.60 ; phi1 =-0.8\n",
    "\n",
    "plot(x,y,phi0,phi1)\n",
    "print(f'Your Loss = {compute_loss(x,y,phi0,phi1):3.2f}')"
   ]
  },
  {
   "cell_type": "markdown",
   "id": "c4ed0f31",
   "metadata": {},
   "source": [
    "Extra: Visualizing the loss function\n",
    "\n",
    "If you did everything correctly until here, we can now plot a part of the full space that you were just manually traversing on:"
   ]
  },
  {
   "cell_type": "code",
   "execution_count": null,
   "id": "522416d4",
   "metadata": {},
   "outputs": [],
   "source": [
    "# Make a 2D grid of possible phi0 and phi1 values\n",
    "phi0_mesh, phi1_mesh = np.meshgrid(np.arange(0.0,2.0,0.02), np.arange(-1.0,1.0,0.02))\n",
    "\n",
    "# Make a 2D array for the losses\n",
    "all_losses = np.zeros_like(phi1_mesh)\n",
    "# Run throught each 2D combination of phi0, phi1 and compute loss\n",
    "for indices,temp in np.ndenumerate(phi1_mesh):\n",
    "    all_losses[indices] = compute_loss(x,y, phi0_mesh[indices], phi1_mesh[indices])"
   ]
  },
  {
   "cell_type": "code",
   "execution_count": null,
   "id": "14dd1ca5",
   "metadata": {},
   "outputs": [],
   "source": [
    "# Plot the loss function as a heatmap\n",
    "fig = plt.figure()\n",
    "ax = plt.axes()\n",
    "fig.set_size_inches(7,7)\n",
    "levels = 256\n",
    "ax.contourf(phi0_mesh, phi1_mesh, all_losses ,levels)\n",
    "levels = 40\n",
    "ax.contour(phi0_mesh, phi1_mesh, all_losses ,levels, colors=['#80808080'])\n",
    "ax.set_ylim([1,-1])\n",
    "ax.set_xlabel('Intercept, $\\phi_0$')\n",
    "ax.set_ylabel('Slope, $\\phi_1$')\n",
    "\n",
    "# Plot the position of your best fitting line on the loss function\n",
    "# It should be close to the minimum\n",
    "ax.plot(phi0,phi1,'ro')\n",
    "plt.show()"
   ]
  }
 ],
 "metadata": {
  "kernelspec": {
   "display_name": "Python 3 (ipykernel)",
   "language": "python",
   "name": "python3"
  },
  "language_info": {
   "codemirror_mode": {
    "name": "ipython",
    "version": 3
   },
   "file_extension": ".py",
   "mimetype": "text/x-python",
   "name": "python",
   "nbconvert_exporter": "python",
   "pygments_lexer": "ipython3",
   "version": "3.11.4"
  }
 },
 "nbformat": 4,
 "nbformat_minor": 5
}
