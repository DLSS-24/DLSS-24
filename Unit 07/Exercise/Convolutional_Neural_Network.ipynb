{
  "cells": [
    {
      "cell_type": "markdown",
      "metadata": {
        "id": "dlE-iU0eDEsR"
      },
      "source": [
        "## **Fashion MNIST Classification using a Convolutional Neural Network (CNN)**\n",
        "\n",
        "This Jupyter Notebook is dedicated to exploring the Fashion MNIST dataset through the implementation of a Convolutional Neural Network (CNN). Fashion MNIST is a dataset consisting of 70,000 grayscale images of 10 fashion categories.\n",
        "\n",
        "# Overview of the Notebook\n",
        "\n",
        "**Data Preparation:** The data is loaded directly from the dataset's source and reshaped appropriately for the CNN model. The dataset is then split into training, validation, and testing sets to prepare for the model training and evaluation phases.\n",
        "\n",
        "**Data Visualization:** A series of images from the dataset are displayed to provide insight into the type of items that need classification. This helps in understanding the challenges in distinguishing between different fashion items.\n",
        "\n",
        "**MLP:** A Multi-Layer Perceptron is trained on the data to show the limits of this approach and to provide a benchmark for the CNN based model.\n",
        "\n",
        "**Model Architecture:** The CNN architecture is defined, detailing the layers used, activation functions, and other parameters critical to learning image features effectively.\n",
        "\n",
        "**Model Training:** The CNN is trained on the training dataset, utilizing techniques such as minibatch gradient descent and regularization to optimize performance and reduce overfitting.\n",
        "\n",
        "**Model Evaluation:** After training, the model is evaluated on the validation and test datasets. Metrics such as accuracy, precision, recall, F1-score, and a confusion matrix are used to assess performance.\n",
        "\n",
        "**Result Visualization:** Results are visualized through various plots, including training-validation accuracy and loss over epochs, to provide a clear view of the model's learning process and final performance."
      ]
    },
    {
      "cell_type": "markdown",
      "metadata": {
        "id": "2uaB4W9ADqra"
      },
      "source": []
    },
    {
      "cell_type": "code",
      "execution_count": 1,
      "metadata": {
        "colab": {
          "base_uri": "https://localhost:8080/"
        },
        "id": "0SfJH1duPQ-a",
        "outputId": "e7b78cf9-a4bf-4279-94da-179703a00a67"
      },
      "outputs": [
        {
          "output_type": "stream",
          "name": "stdout",
          "text": [
            "cuda\n"
          ]
        }
      ],
      "source": [
        "# Import necessary libraries\n",
        "import torch\n",
        "import torch.nn as nn\n",
        "import torch.optim as optim\n",
        "from torchvision import datasets, transforms\n",
        "from torch.utils.data import DataLoader, random_split\n",
        "import numpy as np\n",
        "import matplotlib.pyplot as plt\n",
        "\n",
        "# Set up device (is available use GPU to speed up computations)\n",
        "device = torch.device(\"cuda\" if torch.cuda.is_available() else \"cpu\")\n",
        "print(device)"
      ]
    },
    {
      "cell_type": "markdown",
      "metadata": {
        "id": "J4KravCxFyGu"
      },
      "source": [
        "This section of code is dedicated to loading the FashionMNIST dataset which contains grayscale images of various clothing items. We apply a minimal transformation to convert these images into PyTorch tensors, making them suitable for model processing. This transformation is essential for any subsequent operations such as training or visualizing the images. After loading the dataset, we also print out the sizes of the training and testing datasets to verify that they have been loaded correctly and to understand the scope of data we're working with."
      ]
    },
    {
      "cell_type": "code",
      "execution_count": 2,
      "metadata": {
        "colab": {
          "base_uri": "https://localhost:8080/"
        },
        "id": "5BMSdbLLPfb5",
        "outputId": "3f8f2f59-d163-4724-b14f-8ec23f815746"
      },
      "outputs": [
        {
          "output_type": "stream",
          "name": "stdout",
          "text": [
            "Downloading http://fashion-mnist.s3-website.eu-central-1.amazonaws.com/train-images-idx3-ubyte.gz\n",
            "Downloading http://fashion-mnist.s3-website.eu-central-1.amazonaws.com/train-images-idx3-ubyte.gz to ./data/FashionMNIST/raw/train-images-idx3-ubyte.gz\n"
          ]
        },
        {
          "output_type": "stream",
          "name": "stderr",
          "text": [
            "100%|██████████| 26421880/26421880 [00:00<00:00, 116174728.46it/s]\n"
          ]
        },
        {
          "output_type": "stream",
          "name": "stdout",
          "text": [
            "Extracting ./data/FashionMNIST/raw/train-images-idx3-ubyte.gz to ./data/FashionMNIST/raw\n",
            "\n",
            "Downloading http://fashion-mnist.s3-website.eu-central-1.amazonaws.com/train-labels-idx1-ubyte.gz\n",
            "Downloading http://fashion-mnist.s3-website.eu-central-1.amazonaws.com/train-labels-idx1-ubyte.gz to ./data/FashionMNIST/raw/train-labels-idx1-ubyte.gz\n"
          ]
        },
        {
          "output_type": "stream",
          "name": "stderr",
          "text": [
            "100%|██████████| 29515/29515 [00:00<00:00, 5511302.76it/s]\n"
          ]
        },
        {
          "output_type": "stream",
          "name": "stdout",
          "text": [
            "Extracting ./data/FashionMNIST/raw/train-labels-idx1-ubyte.gz to ./data/FashionMNIST/raw\n",
            "\n",
            "Downloading http://fashion-mnist.s3-website.eu-central-1.amazonaws.com/t10k-images-idx3-ubyte.gz\n",
            "Downloading http://fashion-mnist.s3-website.eu-central-1.amazonaws.com/t10k-images-idx3-ubyte.gz to ./data/FashionMNIST/raw/t10k-images-idx3-ubyte.gz\n"
          ]
        },
        {
          "output_type": "stream",
          "name": "stderr",
          "text": [
            "100%|██████████| 4422102/4422102 [00:00<00:00, 65973906.25it/s]\n"
          ]
        },
        {
          "output_type": "stream",
          "name": "stdout",
          "text": [
            "Extracting ./data/FashionMNIST/raw/t10k-images-idx3-ubyte.gz to ./data/FashionMNIST/raw\n",
            "\n",
            "Downloading http://fashion-mnist.s3-website.eu-central-1.amazonaws.com/t10k-labels-idx1-ubyte.gz\n",
            "Downloading http://fashion-mnist.s3-website.eu-central-1.amazonaws.com/t10k-labels-idx1-ubyte.gz to ./data/FashionMNIST/raw/t10k-labels-idx1-ubyte.gz\n"
          ]
        },
        {
          "output_type": "stream",
          "name": "stderr",
          "text": [
            "100%|██████████| 5148/5148 [00:00<00:00, 22897430.53it/s]"
          ]
        },
        {
          "output_type": "stream",
          "name": "stdout",
          "text": [
            "Extracting ./data/FashionMNIST/raw/t10k-labels-idx1-ubyte.gz to ./data/FashionMNIST/raw\n",
            "\n",
            "Training dataset size: 60000\n",
            "Test dataset size: 10000\n"
          ]
        },
        {
          "output_type": "stream",
          "name": "stderr",
          "text": [
            "\n"
          ]
        }
      ],
      "source": [
        "# Minimal transform just for initial loading\n",
        "transform = transforms.Compose([\n",
        "    transforms.ToTensor()  # This is required for visualizing images initially\n",
        "])\n",
        "\n",
        "# Loading FashionMNIST dataset\n",
        "train_dataset = datasets.FashionMNIST(root='./data', train=True, download=True, transform=transform)\n",
        "test_dataset = datasets.FashionMNIST(root='./data', train=False, download=True, transform=transform)\n",
        "\n",
        "# Print the size of the dataset\n",
        "print(f\"Training dataset size: {len(train_dataset)}\")\n",
        "print(f\"Test dataset size: {len(test_dataset)}\")"
      ]
    },
    {
      "cell_type": "markdown",
      "metadata": {
        "id": "F6zMuvLUGkfT"
      },
      "source": [
        "In this section, we visualize a sample of images from the FashionMNIST dataset to get a sense of the types of clothing items included. We start by loading a small batch of images and display them using matplotlib. The function imshow is specifically tailored to handle and display these grayscale images appropriately. Additionally, we enumerate the class labels associated with these images to clarify what each represents.\n",
        "\n",
        "Following the image display, we analyze the distribution of different clothing item classes within the entire training dataset. This helps us understand the variety and balance of data we're working with. A bar graph is generated to visualize the frequency of each class, providing a clear overview of the dataset composition."
      ]
    },
    {
      "cell_type": "code",
      "execution_count": 3,
      "metadata": {
        "colab": {
          "base_uri": "https://localhost:8080/",
          "height": 699
        },
        "id": "UYcWuNCKPw6-",
        "outputId": "89109306-082b-46e5-e1b6-a2c6b214c10a"
      },
      "outputs": [
        {
          "output_type": "stream",
          "name": "stdout",
          "text": [
            "Sample images:\n"
          ]
        },
        {
          "output_type": "display_data",
          "data": {
            "text/plain": [
              "<Figure size 640x480 with 1 Axes>"
            ],
            "image/png": "[encoded data removed]"
          },
          "metadata": {}
        },
        {
          "output_type": "stream",
          "name": "stdout",
          "text": [
            "Labels: Bag          Bag          Sneaker      Shirt       \n"
          ]
        },
        {
          "output_type": "display_data",
          "data": {
            "text/plain": [
              "<Figure size 1000x500 with 1 Axes>"
            ],
            "image/png": "[encoded data removed]"
          },
          "metadata": {}
        }
      ],
      "source": [
        "import torchvision\n",
        "import numpy as np\n",
        "import matplotlib.pyplot as plt\n",
        "from torch.utils.data import DataLoader\n",
        "\n",
        "# Function to show images\n",
        "def imshow(img):\n",
        "    npimg = img.numpy()\n",
        "    # Since FashionMNIST images are grayscale, we use 'gray' colormap\n",
        "    plt.imshow(np.transpose(npimg, (1, 2, 0)).squeeze(), cmap='gray')\n",
        "    plt.show()\n",
        "\n",
        "# Get some random training images\n",
        "dataiter = iter(DataLoader(train_dataset, batch_size=4, shuffle=True))\n",
        "images, labels = next(dataiter)\n",
        "\n",
        "# Show images\n",
        "print('Sample images:')\n",
        "imshow(torchvision.utils.make_grid(images))\n",
        "\n",
        "# Labels for FashionMNIST classes\n",
        "classes = ('T-shirt/top', 'Trouser', 'Pullover', 'Dress', 'Coat',\n",
        "           'Sandal', 'Shirt', 'Sneaker', 'Bag', 'Ankle boot')\n",
        "\n",
        "# Print corresponding labels\n",
        "print('Labels:', ' '.join(f'{classes[labels[j]]:12s}' for j in range(4)))\n",
        "\n",
        "# Plot the distribution of classes in the training dataset\n",
        "class_counts = {}\n",
        "for _, label in train_dataset:\n",
        "    label = classes[label]\n",
        "    if label in class_counts:\n",
        "        class_counts[label] += 1\n",
        "    else:\n",
        "        class_counts[label] = 1\n",
        "\n",
        "# Visualization of the class distribution\n",
        "plt.figure(figsize=(10,5))\n",
        "plt.bar(class_counts.keys(), class_counts.values(), color='skyblue')\n",
        "plt.xlabel('Classes')\n",
        "plt.ylabel('Number of instances')\n",
        "plt.title('Distribution of Classes in FashionMNIST Training Dataset')\n",
        "plt.show()"
      ]
    },
    {
      "cell_type": "markdown",
      "metadata": {
        "id": "qOkfGREuHJqR"
      },
      "source": [
        "In this segment, we set up the data transformations necessary for processing the FashionMNIST dataset during training and testing phases. The transformations include normalizing the grayscale images and applying data augmentation techniques such as random flips and rotations to enhance the model's generalization capabilities. These augmentations are applied only to the training data to simulate a variety of clothing appearances and positions, which helps in reducing overfitting and improving model robustness.\n",
        "\n",
        "We also split the original training dataset into a new training set and a validation set. This split allows us to evaluate the model on a separate portion of the data that it hasn't trained on, providing us with feedback on how well the model might perform on unseen data. Each subset of the data—training, validation, and test—is then assigned the appropriate transformations."
      ]
    },
    {
      "cell_type": "code",
      "execution_count": 4,
      "metadata": {
        "colab": {
          "base_uri": "https://localhost:8080/"
        },
        "id": "UR6XdRsUQilJ",
        "outputId": "f187a2df-efa4-4089-d576-8fa0521717f4"
      },
      "outputs": [
        {
          "output_type": "stream",
          "name": "stdout",
          "text": [
            "Training Data: 48000 samples\n",
            "Validation Data: 12000 samples\n",
            "Test Data: 10000 samples\n"
          ]
        }
      ],
      "source": [
        "from torchvision import datasets, transforms\n",
        "from torch.utils.data import DataLoader, random_split\n",
        "\n",
        "# Define transformations for training and testing\n",
        "train_transform = transforms.Compose([\n",
        "    transforms.ToTensor(),\n",
        "    transforms.Normalize((0.5,), (0.5,))  # Adjusted for single channel grayscale images\n",
        "])\n",
        "\n",
        "train_transform_augment = transforms.Compose([\n",
        "    transforms.RandomHorizontalFlip(),\n",
        "    transforms.RandomRotation(10),\n",
        "    transforms.RandomAffine(0, shear=10, scale=(0.8, 1.2)),\n",
        "    transforms.ToTensor(),\n",
        "    transforms.Normalize((0.5,), (0.5,))  # Adjusted for single channel grayscale images\n",
        "])\n",
        "\n",
        "test_transform = transforms.Compose([\n",
        "    transforms.ToTensor(),\n",
        "    transforms.Normalize((0.5,), (0.5,))  # Adjusted for single channel grayscale images\n",
        "])\n",
        "\n",
        "# Assuming train_dataset and test_dataset are already defined with FashionMNIST\n",
        "# Split the training dataset into training and validation sets\n",
        "validation_split = 0.2\n",
        "train_size = int((1 - validation_split) * len(train_dataset))\n",
        "validation_size = len(train_dataset) - train_size\n",
        "train_data, validation_data = random_split(train_dataset, [train_size, validation_size])\n",
        "\n",
        "# Apply appropriate transformations to each dataset\n",
        "train_data.dataset.transform = train_transform  # Non-augmented training data\n",
        "# train_data.dataset.transform = train_transform_augment  # Augmented training data\n",
        "validation_data.dataset.transform = test_transform  # Non-augmented for validation\n",
        "\n",
        "# Display sizes of each dataset\n",
        "print(f\"Training Data: {len(train_data)} samples\")\n",
        "print(f\"Validation Data: {len(validation_data)} samples\")\n",
        "print(f\"Test Data: {len(test_dataset)} samples\")"
      ]
    },
    {
      "cell_type": "markdown",
      "metadata": {
        "id": "lRnVyTphHgzz"
      },
      "source": [
        "This section demonstrates the impact of various data augmentation techniques on a single image from the FashionMNIST dataset. Data augmentation is a critical technique in deep learning used to increase the diversity of data available for training models, without actually collecting new data. This is achieved by applying random transformations such as flipping, rotation, and affine transformations to the training images.\n",
        "\n",
        "The function visualize_single_image_augmentations is designed to apply a series of transformations to a single image and display the results side by side. This visualization helps in understanding how each augmentation can potentially alter the data and thus how it might affect the learning process of the neural network."
      ]
    },
    {
      "cell_type": "code",
      "execution_count": 5,
      "metadata": {
        "colab": {
          "base_uri": "https://localhost:8080/",
          "height": 121
        },
        "id": "YGdOpHqLTGcC",
        "outputId": "a9604141-8d7b-4971-939e-4e0f3b4d838c"
      },
      "outputs": [
        {
          "output_type": "display_data",
          "data": {
            "text/plain": [
              "<Figure size 2000x200 with 10 Axes>"
            ],
            "image/png": "[encoded data removed]"
          },
          "metadata": {}
        }
      ],
      "source": [
        "import matplotlib.pyplot as plt\n",
        "import torchvision.transforms.functional as TF\n",
        "from torchvision import datasets, transforms\n",
        "\n",
        "def visualize_single_image_augmentations(image, transform, repetitions=10):\n",
        "    fig, axes = plt.subplots(1, repetitions, figsize=(20, 2))\n",
        "    for i in range(repetitions):\n",
        "        # Apply the augmentation transform each time\n",
        "        img = transform(image)\n",
        "        # Convert tensor to numpy for plotting\n",
        "        img = img.numpy().squeeze()  # Remove channel dim because it's grayscale\n",
        "        # Normalize for display\n",
        "        img = (img - img.min()) / (img.max() - img.min())  # Normalize to 0-1\n",
        "        axes[i].imshow(img, cmap='gray')  # Use grayscale colormap\n",
        "        axes[i].axis('off')\n",
        "    plt.show()\n",
        "\n",
        "# Load a single image from FashionMNIST without any transformation applied\n",
        "original_image, _ = datasets.FashionMNIST(root='./data', train=True, download=True, transform=None)[432]\n",
        "\n",
        "# Define augmentation transform suitable for grayscale images\n",
        "augmentation_transform = transforms.Compose([\n",
        "    transforms.RandomHorizontalFlip(),\n",
        "    transforms.RandomRotation(10),\n",
        "    transforms.RandomAffine(degrees=0, translate=(0.1, 0.1), scale=(0.9, 1.1), shear=10),\n",
        "    transforms.ToTensor(),\n",
        "    transforms.Normalize((0.5,), (0.5,))  # Adjust normalization for one channel\n",
        "])\n",
        "\n",
        "# Visualize the same image with different augmentations applied\n",
        "visualize_single_image_augmentations(original_image, augmentation_transform)"
      ]
    },
    {
      "cell_type": "markdown",
      "metadata": {
        "id": "TEhXJGgdIHfv"
      },
      "source": [
        "In this section, we implement crucial functionality to efficiently train neural networks while avoiding overfitting through the use of an early stopping mechanism. Early stopping is a form of regularization used to halt the training process when the model's performance on the validation set stops improving after a specified number of epochs. This approach not only helps in preventing overfitting but also reduces computational waste by stopping training once further training ceases to provide benefits.\n",
        "\n",
        "**EarlyStopping Class:** This class monitors the validation loss during the training process. If the validation loss does not improve beyond a small delta for a specified 'patience' number of epochs, it triggers the stopping of the training process. Additionally, it handles the saving of the best model state to ensure we retain the model at its peak performance.\n",
        "\n",
        "**train_model Function:** This function orchestrates the model training process, utilizing the EarlyStopping class. It conducts training over a specified number of epochs or until early stopping is triggered, whichever comes first. The function takes care of running both training and validation phases within each epoch, updating weights, and calculating losses. It is designed to be flexible enough to handle different models, optimizers, and loss functions.\n",
        "\n",
        "**train_cnn_model Function:** Similar to train_model, this function is adapted specifically to handle models that return multiple outputs, such as our CNN model that returns both the final classification output and intermediate feature maps. It ensures that only the logits are used for loss calculation and backpropagation."
      ]
    },
    {
      "cell_type": "code",
      "execution_count": 6,
      "metadata": {
        "id": "97Kv4cJokyim"
      },
      "outputs": [],
      "source": [
        "#EARLY STOPPING AND TRAINING FUCNTIONS\n",
        "\n",
        "class EarlyStopping:\n",
        "    def __init__(self, patience=25, min_delta=0.0001, path='checkpoint.pt'):\n",
        "        self.patience = patience\n",
        "        self.min_delta = min_delta\n",
        "        self.counter = 0\n",
        "        self.best_loss = None\n",
        "        self.early_stop = False\n",
        "        self.path = path  # Path to save the best model\n",
        "\n",
        "    def __call__(self, val_loss, model):\n",
        "        if self.best_loss is None:\n",
        "            self.best_loss = val_loss\n",
        "            self.save_checkpoint(val_loss, model)\n",
        "        elif val_loss > self.best_loss - self.min_delta:\n",
        "            self.counter += 1\n",
        "            if self.counter >= self.patience:\n",
        "                self.early_stop = True\n",
        "        else:\n",
        "            if val_loss < self.best_loss:\n",
        "                self.save_checkpoint(val_loss, model)\n",
        "                self.best_loss = val_loss\n",
        "                self.counter = 0\n",
        "\n",
        "    def save_checkpoint(self, val_loss, model):\n",
        "        '''Saves model when validation loss decrease.'''\n",
        "        torch.save(model.state_dict(), self.path)\n",
        "        print(f'Validation loss decreased ({self.best_loss:.6f} --> {val_loss:.6f}).  Saving model ...')\n",
        "\n",
        "def train_model(epochs, model, optimizer, criterion, train_loader, val_loader, early_stopper):\n",
        "    train_losses = []\n",
        "    val_losses = []\n",
        "    for epoch in range(epochs):\n",
        "        model.train()\n",
        "        train_loss = 0\n",
        "        for data, target in train_loader:\n",
        "            data, target = data.to(device), target.to(device)\n",
        "            optimizer.zero_grad()\n",
        "            output = model(data)\n",
        "            loss = criterion(output, target)\n",
        "            loss.backward()\n",
        "            optimizer.step()\n",
        "            train_loss += loss.item()\n",
        "\n",
        "        train_losses.append(train_loss / len(train_loader))\n",
        "\n",
        "        model.eval()\n",
        "        val_loss = 0\n",
        "        with torch.no_grad():\n",
        "            for data, target in val_loader:\n",
        "                data, target = data.to(device), target.to(device)\n",
        "                output = model(data)\n",
        "                loss = criterion(output, target)\n",
        "                val_loss += loss.item()\n",
        "        val_losses.append(val_loss / len(val_loader))\n",
        "        print(f'Epoch: {epoch+1}, Training Loss: {train_loss / len(train_loader):.4f}, Validation Loss: {val_loss / len(val_loader):.4f}')\n",
        "\n",
        "        # Early stopping call and pass the model for checkpointing\n",
        "        early_stopper(val_loss / len(val_loader), model)\n",
        "        if early_stopper.early_stop:\n",
        "            print(\"Early stopping triggered.\")\n",
        "            break\n",
        "\n",
        "    # Load the best model weights\n",
        "    model.load_state_dict(torch.load('checkpoint.pt'))\n",
        "    return train_losses, val_losses\n",
        "\n",
        "def train_cnn_model(epochs, model, optimizer, criterion, train_loader, val_loader, early_stopper):\n",
        "    train_losses = []\n",
        "    val_losses = []\n",
        "    for epoch in range(epochs):\n",
        "        model.train()\n",
        "        train_loss = 0\n",
        "        for data, target in train_loader:\n",
        "            data, target = data.to(device), target.to(device)\n",
        "            optimizer.zero_grad()\n",
        "\n",
        "            # Get only the logits from the model's output which is the first element of the tuple\n",
        "            output, _ = model(data)  # Adjust here to unpack the tuple and ignore the second output\n",
        "            loss = criterion(output, target)\n",
        "            loss.backward()\n",
        "            optimizer.step()\n",
        "            train_loss += loss.item()\n",
        "\n",
        "        train_losses.append(train_loss / len(train_loader))\n",
        "\n",
        "        model.eval()\n",
        "        val_loss = 0\n",
        "        with torch.no_grad():\n",
        "            for data, target in val_loader:\n",
        "                data, target = data.to(device), target.to(device)\n",
        "                # Again, get only the logits when evaluating\n",
        "                output, _ = model(data)\n",
        "                loss = criterion(output, target)\n",
        "                val_loss += loss.item()\n",
        "        val_losses.append(val_loss / len(val_loader))\n",
        "        print(f'Epoch: {epoch+1}, Training Loss: {train_loss / len(train_loader):.4f}, Validation Loss: {val_loss / len(val_loader):.4f}')\n",
        "\n",
        "        # Early stopping call and pass the model for checkpointing\n",
        "        early_stopper(val_loss / len(val_loader), model)\n",
        "        if early_stopper.early_stop:\n",
        "            print(\"Early stopping triggered.\")\n",
        "            break\n",
        "\n",
        "    # Load the best model weights\n",
        "    model.load_state_dict(torch.load('checkpoint.pt'))\n",
        "    return train_losses, val_losses\n"
      ]
    },
    {
      "cell_type": "markdown",
      "metadata": {
        "id": "U7LeJYWjI9xv"
      },
      "source": [
        "In this section, we define a Multilayer Perceptron (MLP) model suitable for classifying images from the FashionMNIST dataset. The MLP is a basic type of neural network that consists of several fully connected layers. It's particularly effective for tasks involving fixed-size inputs and where the spatial relationship between pixels is less critical."
      ]
    },
    {
      "cell_type": "code",
      "execution_count": null,
      "metadata": {
        "colab": {
          "base_uri": "https://localhost:8080/"
        },
        "id": "zcZD_Q84UzWk",
        "outputId": "292b2de7-9f33-475c-de05-7d7961e39bad"
      },
      "outputs": [
        {
          "name": "stdout",
          "output_type": "stream",
          "text": [
            "----------------------------------------------------------------\n",
            "        Layer (type)               Output Shape         Param #\n",
            "================================================================\n",
            "           Flatten-1                  [-1, 784]               0\n",
            "            Linear-2                  [-1, 512]         401,920\n",
            "              ReLU-3                  [-1, 512]               0\n",
            "           Dropout-4                  [-1, 512]               0\n",
            "            Linear-5                  [-1, 256]         131,328\n",
            "              ReLU-6                  [-1, 256]               0\n",
            "           Dropout-7                  [-1, 256]               0\n",
            "            Linear-8                  [-1, 128]          32,896\n",
            "              ReLU-9                  [-1, 128]               0\n",
            "           Linear-10                   [-1, 10]           1,290\n",
            "================================================================\n",
            "Total params: 567,434\n",
            "Trainable params: 567,434\n",
            "Non-trainable params: 0\n",
            "----------------------------------------------------------------\n",
            "Input size (MB): 0.00\n",
            "Forward/backward pass size (MB): 0.03\n",
            "Params size (MB): 2.16\n",
            "Estimated Total Size (MB): 2.19\n",
            "----------------------------------------------------------------\n"
          ]
        }
      ],
      "source": [
        "import torch\n",
        "import torch.nn as nn\n",
        "from torchsummary import summary\n",
        "\n",
        "class MLP(nn.Module):\n",
        "    def __init__(self):\n",
        "        super(MLP, self).__init__()\n",
        "        self.flatten = nn.Flatten()\n",
        "        self.network = nn.Sequential(\n",
        "            nn.Linear(28*28, 512),  # Adjusted input layer to match 28x28 input size\n",
        "            nn.ReLU(),\n",
        "            nn.Dropout(0.5),  # Adding dropout for regularization\n",
        "            nn.Linear(512, 256),\n",
        "            nn.ReLU(),\n",
        "            nn.Dropout(0.3),  # Another dropout layer\n",
        "            nn.Linear(256, 128),\n",
        "            nn.ReLU(),\n",
        "            nn.Linear(128, 10),  # Output layer for 10 classes\n",
        "        )\n",
        "\n",
        "    def forward(self, x):\n",
        "        x = self.flatten(x)\n",
        "        return self.network(x)\n",
        "\n",
        "# Instantiate the model and move it to the available device\n",
        "model = MLP().to(device)\n",
        "summary(model, input_size=(1, 28, 28))  # Updated to single channel, 28x28 input size"
      ]
    },
    {
      "cell_type": "markdown",
      "metadata": {
        "id": "fmSY0rRVJauq"
      },
      "source": [
        "This code snippet establishes the training environment for our Multilayer Perceptron model, configuring essential parameters and preparing DataLoader objects for handling training, validation, and testing datasets. Key training parameters such as batch size, learning rate, and regularization are defined. The model is then trained using these parameters, with early stopping implemented to prevent overfitting by halting training if validation loss does not improve for a specified number of epochs. Finally, the training and validation losses are plotted to visualize the learning progress over the epochs, providing insight into the model's performance and convergence behavior."
      ]
    },
    {
      "cell_type": "code",
      "execution_count": null,
      "metadata": {
        "colab": {
          "base_uri": "https://localhost:8080/",
          "height": 800
        },
        "id": "RmIwHsrJU3J6",
        "outputId": "a7951379-f7ac-449b-9da9-705262b8c241"
      },
      "outputs": [
        {
          "name": "stdout",
          "output_type": "stream",
          "text": [
            "Epoch: 1, Training Loss: 1.5474, Validation Loss: 0.7570\n",
            "Validation loss decreased (0.756963 --> 0.756963).  Saving model ...\n",
            "Epoch: 2, Training Loss: 0.7433, Validation Loss: 0.5916\n",
            "Validation loss decreased (0.756963 --> 0.591625).  Saving model ...\n",
            "Epoch: 3, Training Loss: 0.6279, Validation Loss: 0.5265\n",
            "Validation loss decreased (0.591625 --> 0.526461).  Saving model ...\n",
            "Epoch: 4, Training Loss: 0.5705, Validation Loss: 0.4835\n",
            "Validation loss decreased (0.526461 --> 0.483518).  Saving model ...\n",
            "Epoch: 5, Training Loss: 0.5314, Validation Loss: 0.4553\n",
            "Validation loss decreased (0.483518 --> 0.455335).  Saving model ...\n",
            "Epoch: 6, Training Loss: 0.5018, Validation Loss: 0.4362\n",
            "Validation loss decreased (0.455335 --> 0.436231).  Saving model ...\n",
            "Epoch: 7, Training Loss: 0.4826, Validation Loss: 0.4216\n",
            "Validation loss decreased (0.436231 --> 0.421579).  Saving model ...\n",
            "Epoch: 8, Training Loss: 0.4647, Validation Loss: 0.4100\n",
            "Validation loss decreased (0.421579 --> 0.410034).  Saving model ...\n",
            "Epoch: 9, Training Loss: 0.4483, Validation Loss: 0.3970\n",
            "Validation loss decreased (0.410034 --> 0.396993).  Saving model ...\n",
            "Epoch: 10, Training Loss: 0.4375, Validation Loss: 0.3892\n",
            "Validation loss decreased (0.396993 --> 0.389223).  Saving model ...\n"
          ]
        },
        {
          "data": {
            "image/png": "[encoded data removed]",
            "text/plain": [
              "<Figure size 640x480 with 1 Axes>"
            ]
          },
          "metadata": {},
          "output_type": "display_data"
        }
      ],
      "source": [
        "\n",
        "batch_size = 512\n",
        "epochs = 10\n",
        "patience = 5\n",
        "lr = 0.0001\n",
        "reg = 0.0001\n",
        "\n",
        "# Create DataLoaders for training, validation, and testing\n",
        "train_loader = DataLoader(train_data, batch_size=batch_size, shuffle=True)\n",
        "validation_loader = DataLoader(validation_data, batch_size=batch_size, shuffle=False)\n",
        "test_loader = DataLoader(test_dataset, batch_size=batch_size, shuffle=False)\n",
        "\n",
        "\n",
        "# MLP model, criterion, optimizer, and early stopping initialization\n",
        "model = MLP().to(device)\n",
        "criterion = nn.CrossEntropyLoss()\n",
        "optimizer = optim.Adam(model.parameters(), lr=lr, weight_decay=reg)  # L2 regularization\n",
        "early_stopper = EarlyStopping(patience=patience)\n",
        "\n",
        "# Training the model\n",
        "train_losses, val_losses = train_model(epochs, model, optimizer, criterion, train_loader, validation_loader, early_stopper)\n",
        "\n",
        "# Plotting the training and validation losses\n",
        "import matplotlib.pyplot as plt\n",
        "plt.plot(train_losses, label='Training Loss')\n",
        "plt.plot(val_losses, label='Validation Loss')\n",
        "plt.xlabel('Epochs')\n",
        "plt.ylabel('Loss')\n",
        "plt.legend()\n",
        "plt.show()"
      ]
    },
    {
      "cell_type": "markdown",
      "metadata": {
        "id": "eWA1_IEHJueH"
      },
      "source": [
        "This code block outlines the architecture of our Convolutional Neural Network (CNN), which is tailored for image classification tasks like those presented by the FashionMNIST dataset. The network comprises several convolutional layers that are designed to extract spatial hierarchies of features through filters. These layers are interspersed with ReLU activations and max pooling for non-linearity and dimensionality reduction, respectively. Dropout layers are incorporated to mitigate overfitting. The classifier section flattens the feature maps and passes them through dense layers to output predictions for the ten classes. Both the prediction and the result of the last convolutional layer are returned as output. A summary generated by torchsummary provides a detailed breakdown of the model's layers, parameters, and the shape transformations that occur throughout the network."
      ]
    },
    {
      "cell_type": "code",
      "execution_count": 8,
      "metadata": {
        "colab": {
          "base_uri": "https://localhost:8080/"
        },
        "id": "wp8FnRMVW-qJ",
        "outputId": "63398ad7-2a34-45e1-acd3-2c1785752ba8"
      },
      "outputs": [
        {
          "output_type": "stream",
          "name": "stdout",
          "text": [
            "----------------------------------------------------------------\n",
            "        Layer (type)               Output Shape         Param #\n",
            "================================================================\n",
            "            Conv2d-1           [-1, 32, 28, 28]             320\n",
            "              ReLU-2           [-1, 32, 28, 28]               0\n",
            "            Conv2d-3           [-1, 32, 28, 28]           9,248\n",
            "              ReLU-4           [-1, 32, 28, 28]               0\n",
            "         MaxPool2d-5           [-1, 32, 14, 14]               0\n",
            "           Dropout-6           [-1, 32, 14, 14]               0\n",
            "            Conv2d-7           [-1, 64, 14, 14]          18,496\n",
            "              ReLU-8           [-1, 64, 14, 14]               0\n",
            "            Conv2d-9           [-1, 64, 14, 14]          36,928\n",
            "             ReLU-10           [-1, 64, 14, 14]               0\n",
            "        MaxPool2d-11             [-1, 64, 7, 7]               0\n",
            "          Dropout-12             [-1, 64, 7, 7]               0\n",
            "          Flatten-13                 [-1, 3136]               0\n",
            "           Linear-14                   [-1, 64]         200,768\n",
            "             ReLU-15                   [-1, 64]               0\n",
            "          Dropout-16                   [-1, 64]               0\n",
            "           Linear-17                   [-1, 10]             650\n",
            "================================================================\n",
            "Total params: 266,410\n",
            "Trainable params: 266,410\n",
            "Non-trainable params: 0\n",
            "----------------------------------------------------------------\n",
            "Input size (MB): 0.00\n",
            "Forward/backward pass size (MB): 1.32\n",
            "Params size (MB): 1.02\n",
            "Estimated Total Size (MB): 2.34\n",
            "----------------------------------------------------------------\n"
          ]
        }
      ],
      "source": [
        "from torchsummary import summary\n",
        "\n",
        "\n",
        "class CNN(nn.Module):\n",
        "    def __init__(self):\n",
        "        super(CNN, self).__init__()\n",
        "        self.features = nn.Sequential(\n",
        "            nn.Conv2d(1, 32, kernel_size=3, padding=1),\n",
        "            nn.ReLU(),\n",
        "            nn.Conv2d(32, 32, kernel_size=3, padding=1),\n",
        "            nn.ReLU(),\n",
        "            nn.MaxPool2d(2, 2),\n",
        "            nn.Dropout(0.25),\n",
        "\n",
        "            nn.Conv2d(32, 64, kernel_size=3, padding=1),\n",
        "            nn.ReLU(),\n",
        "            nn.Conv2d(64, 64, kernel_size=3, padding=1),\n",
        "            nn.ReLU(),\n",
        "            nn.MaxPool2d(2, 2),\n",
        "            nn.Dropout(0.25)\n",
        "        )\n",
        "        self.classifier = nn.Sequential(\n",
        "            nn.Flatten(),\n",
        "            nn.Linear(64 * 7 * 7, 64),\n",
        "            nn.ReLU(),\n",
        "            nn.Dropout(0.5),\n",
        "            nn.Linear(64, 10)\n",
        "        )\n",
        "\n",
        "    def forward(self, x):\n",
        "        x = self.features(x)\n",
        "        # Store the output of the last convolutional layer\n",
        "        last_conv_output = x\n",
        "        x = self.classifier(x)\n",
        "        return x, last_conv_output\n",
        "\n",
        "# Update the instantiation and summary if necessary\n",
        "cnn_model = CNN().to(device)\n",
        "\n",
        "# Using torchsummary to display model summary\n",
        "summary(cnn_model, input_size=(1, 28, 28))  # Updated to single channel, 28x28 input size"
      ]
    },
    {
      "cell_type": "markdown",
      "metadata": {
        "id": "a_gFPu80KOdY"
      },
      "source": [
        "This section initializes and trains the CNN model for the FashionMNIST dataset. We set up DataLoaders to handle the batches of training, validation, and testing data, and specify training parameters such as batch size, learning rate, and regularization strength. The CNN model is equipped with an early stopping mechanism to enhance training efficiency by halting the process if the validation loss does not improve for a given number of consecutive epochs. After training, we visualize the training and validation loss curves to assess the model’s learning progression and stability across the specified epochs. This visualization helps in understanding the effectiveness of the training process and in making any necessary adjustments for optimization."
      ]
    },
    {
      "cell_type": "code",
      "execution_count": 9,
      "metadata": {
        "colab": {
          "base_uri": "https://localhost:8080/",
          "height": 796
        },
        "id": "zlCb8i68XRN1",
        "outputId": "1f79334f-cc50-4e0c-cd1e-63b105032ede"
      },
      "outputs": [
        {
          "output_type": "stream",
          "name": "stdout",
          "text": [
            "Epoch: 1, Training Loss: 0.9940, Validation Loss: 0.4965\n",
            "Validation loss decreased (0.496522 --> 0.496522).  Saving model ...\n",
            "Epoch: 2, Training Loss: 0.5684, Validation Loss: 0.4015\n",
            "Validation loss decreased (0.496522 --> 0.401465).  Saving model ...\n",
            "Epoch: 3, Training Loss: 0.4919, Validation Loss: 0.3463\n",
            "Validation loss decreased (0.401465 --> 0.346334).  Saving model ...\n",
            "Epoch: 4, Training Loss: 0.4419, Validation Loss: 0.3210\n",
            "Validation loss decreased (0.346334 --> 0.321015).  Saving model ...\n",
            "Epoch: 5, Training Loss: 0.4055, Validation Loss: 0.2997\n",
            "Validation loss decreased (0.321015 --> 0.299710).  Saving model ...\n",
            "Epoch: 6, Training Loss: 0.3806, Validation Loss: 0.2806\n",
            "Validation loss decreased (0.299710 --> 0.280618).  Saving model ...\n",
            "Epoch: 7, Training Loss: 0.3577, Validation Loss: 0.2605\n",
            "Validation loss decreased (0.280618 --> 0.260546).  Saving model ...\n",
            "Epoch: 8, Training Loss: 0.3425, Validation Loss: 0.2558\n",
            "Validation loss decreased (0.260546 --> 0.255795).  Saving model ...\n",
            "Epoch: 9, Training Loss: 0.3299, Validation Loss: 0.2467\n",
            "Validation loss decreased (0.255795 --> 0.246732).  Saving model ...\n",
            "Epoch: 10, Training Loss: 0.3162, Validation Loss: 0.2419\n",
            "Validation loss decreased (0.246732 --> 0.241948).  Saving model ...\n"
          ]
        },
        {
          "output_type": "display_data",
          "data": {
            "text/plain": [
              "<Figure size 640x480 with 1 Axes>"
            ],
            "image/png": "[encoded data removed]"
          },
          "metadata": {}
        }
      ],
      "source": [
        "batch_size = 512\n",
        "epochs = 10\n",
        "patience = 5\n",
        "lr = 0.001\n",
        "reg = 0.0001\n",
        "\n",
        "# Create DataLoaders for training, validation, and testing\n",
        "train_loader = DataLoader(train_data, batch_size=batch_size, shuffle=True)\n",
        "validation_loader = DataLoader(validation_data, batch_size=batch_size, shuffle=False)\n",
        "test_loader = DataLoader(test_dataset, batch_size=batch_size, shuffle=False)\n",
        "\n",
        "\n",
        "#CNN model, criterion, optimizer, and early stopping initialization\n",
        "criterion = nn.CrossEntropyLoss()\n",
        "cnn_optimizer = optim.Adam(cnn_model.parameters(), lr=lr, weight_decay=reg)  # Ensure this is for the cnn_model\n",
        "early_stopper = EarlyStopping(patience=patience)\n",
        "\n",
        "# Training the model\n",
        "train_losses, val_losses = train_cnn_model(epochs, cnn_model, cnn_optimizer, criterion, train_loader, validation_loader, early_stopper)\n",
        "\n",
        "# Plotting the training and validation losses\n",
        "import matplotlib.pyplot as plt\n",
        "plt.plot(train_losses, label='Training Loss')\n",
        "plt.plot(val_losses, label='Validation Loss')\n",
        "plt.xlabel('Epochs')\n",
        "plt.ylabel('Loss')\n",
        "plt.legend()\n",
        "plt.show()"
      ]
    },
    {
      "cell_type": "markdown",
      "metadata": {
        "id": "r5sOv38hKfKf"
      },
      "source": [
        "This code segment is designed to demonstrate the internal workings of the CNN by visualizing the feature maps generated from its convolutional layers. We execute this for multiple images to compare how different inputs activate the network's filters. The function visualize_features_and_inputs displays the original input images alongside their corresponding feature maps, allowing for a visual assessment of what features the model is focusing on for each input. This visualization is crucial for understanding model behavior and ensures that the CNN is learning meaningful patterns from the FashionMNIST dataset. Each row in the resulting plot corresponds to one input image and its selected feature maps, providing a comprehensive view across multiple examples."
      ]
    },
    {
      "cell_type": "code",
      "execution_count": 11,
      "metadata": {
        "colab": {
          "base_uri": "https://localhost:8080/",
          "height": 864
        },
        "id": "UUHG4s1Pm_7m",
        "outputId": "26361d0e-8297-4d47-9de5-4495788661df"
      },
      "outputs": [
        {
          "output_type": "display_data",
          "data": {
            "text/plain": [
              "<Figure size 1500x1250 with 40 Axes>"
            ],
            "image/png": "[encoded data removed]"
          },
          "metadata": {}
        }
      ],
      "source": [
        "import matplotlib.pyplot as plt\n",
        "import torch\n",
        "import torchvision\n",
        "\n",
        "def visualize_features_and_inputs(model, data_loader, num_images=5, num_maps=5):\n",
        "    model.eval()  # Ensure the model is in eval mode\n",
        "    fig, axes = plt.subplots(num_images, num_maps + 1, figsize=(15, 2.5 * num_images))  # Rows, Columns\n",
        "\n",
        "    for idx in range(num_images):\n",
        "        # Get the next batch of images\n",
        "        images, _ = next(iter(data_loader))  # Get a batch of images\n",
        "        images = images.to(device)\n",
        "\n",
        "        # Get the final output and feature maps from the model\n",
        "        _, feature_maps = model(images)\n",
        "        feature_maps = feature_maps.cpu().data\n",
        "\n",
        "        # Display the input image\n",
        "        input_img = torchvision.utils.make_grid(images[idx].cpu())  # Move to CPU first, then make grid\n",
        "        axes[idx, 0].imshow(input_img.numpy().transpose((1, 2, 0)), cmap='gray')\n",
        "        axes[idx, 0].set_title('Input Image' if idx == 0 else '')  # Title only on the first row\n",
        "        axes[idx, 0].axis('off')\n",
        "\n",
        "        # Display all feature maps on the same row\n",
        "        for i in range(num_maps):\n",
        "            if i < feature_maps.size(1):  # Check if the feature map index exists\n",
        "                fmap = feature_maps[idx, i]  # 0 is the first image of the batch, i is the feature map index\n",
        "                axes[idx, i + 1].imshow(fmap, cmap='hot')\n",
        "                axes[idx, i + 1].set_title(f'Feature Map {i+1}' if idx == 0 else '')  # Title only on the first row\n",
        "                axes[idx, i + 1].axis('off')\n",
        "            else:\n",
        "                # Clear any unused axes if there are fewer feature maps than num_maps\n",
        "                axes[idx, i + 1].axis('off')\n",
        "\n",
        "    plt.tight_layout()\n",
        "    plt.show()\n",
        "\n",
        "# Call the visualization function specifying the number of images and feature maps\n",
        "visualize_features_and_inputs(cnn_model, test_loader, num_images=5, num_maps=7)"
      ]
    },
    {
      "cell_type": "markdown",
      "metadata": {
        "id": "TlXxFtAhKjya"
      },
      "source": [
        "This code block visualizes predictions from both the MLP and CNN models on a set of images from the FashionMNIST dataset. We place the models in evaluation mode to ensure they're not in training mode, which could affect their output due to components like dropout. We then load a batch of images and perform predictions using both models. Each image is displayed along with its true label and the predictions from both models, allowing us to visually assess and compare the performance of each model side-by-side. This side-by-side comparison is vital for understanding how each model processes and classifies the same set of images, providing insight into their respective strengths and weaknesses in image recognition tasks."
      ]
    },
    {
      "cell_type": "code",
      "execution_count": 12,
      "metadata": {
        "colab": {
          "base_uri": "https://localhost:8080/",
          "height": 211
        },
        "id": "Ks91KVeChtKm",
        "outputId": "021c7aef-16d7-46bc-81ba-8d0807967a9a"
      },
      "outputs": [
        {
          "output_type": "error",
          "ename": "NameError",
          "evalue": "name 'model' is not defined",
          "traceback": [
            "\u001b[0;31m---------------------------------------------------------------------------\u001b[0m",
            "\u001b[0;31mNameError\u001b[0m                                 Traceback (most recent call last)",
            "\u001b[0;32m<ipython-input-12-de1b5554a4c1>\u001b[0m in \u001b[0;36m<cell line: 18>\u001b[0;34m()\u001b[0m\n\u001b[1;32m     16\u001b[0m \u001b[0;34m\u001b[0m\u001b[0m\n\u001b[1;32m     17\u001b[0m \u001b[0;31m# Put models in evaluation mode\u001b[0m\u001b[0;34m\u001b[0m\u001b[0;34m\u001b[0m\u001b[0m\n\u001b[0;32m---> 18\u001b[0;31m \u001b[0mmodel\u001b[0m\u001b[0;34m.\u001b[0m\u001b[0meval\u001b[0m\u001b[0;34m(\u001b[0m\u001b[0;34m)\u001b[0m\u001b[0;34m\u001b[0m\u001b[0;34m\u001b[0m\u001b[0m\n\u001b[0m\u001b[1;32m     19\u001b[0m \u001b[0mcnn_model\u001b[0m\u001b[0;34m.\u001b[0m\u001b[0meval\u001b[0m\u001b[0;34m(\u001b[0m\u001b[0;34m)\u001b[0m\u001b[0;34m\u001b[0m\u001b[0;34m\u001b[0m\u001b[0m\n\u001b[1;32m     20\u001b[0m \u001b[0;34m\u001b[0m\u001b[0m\n",
            "\u001b[0;31mNameError\u001b[0m: name 'model' is not defined"
          ]
        }
      ],
      "source": [
        "import torch\n",
        "import matplotlib.pyplot as plt\n",
        "import torchvision\n",
        "from torchvision import datasets, transforms\n",
        "from torch.utils.data import DataLoader\n",
        "\n",
        "# Assuming the models (MLP and CNN) and device setup are already defined and imported\n",
        "\n",
        "# Function to display images and labels\n",
        "def imshow(img, ax, title):\n",
        "    img = img / 2 + 0.5  # unnormalize if normalization was applied\n",
        "    npimg = img.numpy()\n",
        "    ax.imshow(np.transpose(npimg, (1, 2, 0)), cmap='gray')\n",
        "    ax.set_title(title)\n",
        "    ax.axis('off')\n",
        "\n",
        "# Put models in evaluation mode\n",
        "model.eval()\n",
        "cnn_model.eval()\n",
        "\n",
        "# Numer of images to show\n",
        "N_samples = 8\n",
        "\n",
        "# DataLoader setup\n",
        "transform = transforms.Compose([transforms.ToTensor(),\n",
        "                                transforms.Normalize((0.5,), (0.5,))])\n",
        "testset = datasets.FashionMNIST(root='./data', train=False, download=True, transform=transform)\n",
        "test_loader = DataLoader(testset, batch_size=N_samples, shuffle=True)\n",
        "\n",
        "# Fetch images and labels\n",
        "dataiter = iter(test_loader)\n",
        "images, labels = next(dataiter)\n",
        "\n",
        "# Move images to device\n",
        "images = images.to(device)\n",
        "labels = labels.to(device)\n",
        "\n",
        "# Get predictions from both models\n",
        "with torch.no_grad():\n",
        "    outputs_mlp = model(images)\n",
        "    _, predicted_mlp = torch.max(outputs_mlp, 1)\n",
        "\n",
        "    outputs_cnn,_ = cnn_model(images)\n",
        "    _, predicted_cnn = torch.max(outputs_cnn, 1)\n",
        "\n",
        "# Classes in FashionMNIST\n",
        "classes = ('T-shirt/top', 'Trouser', 'Pullover', 'Dress', 'Coat',\n",
        "           'Sandal', 'Shirt', 'Sneaker', 'Bag', 'Ankle boot')\n",
        "\n",
        "\n",
        "# Setup matplotlib figures\n",
        "fig, axes = plt.subplots(1, N_samples, figsize=(15, 5))\n",
        "images = images.cpu()\n",
        "labels = labels.cpu()\n",
        "predicted_mlp = predicted_mlp.cpu()\n",
        "predicted_cnn = predicted_cnn.cpu()\n",
        "\n",
        "# Display each image\n",
        "for i in range(N_samples):\n",
        "    ax = axes[i]\n",
        "    imshow(images[i], ax, f\"True: {classes[labels[i]]}\\nMLP: {classes[predicted_mlp[i]]}\\nCNN: {classes[predicted_cnn[i]]}\")\n",
        "\n",
        "plt.show()"
      ]
    },
    {
      "cell_type": "markdown",
      "metadata": {
        "id": "q851s6lIK0fT"
      },
      "source": [
        "This code segment is set up to rigorously evaluate both the MLP and CNN models on the validation dataset from FashionMNIST. The function evaluate_model places the model in evaluation mode, processes the images from the validation set, and computes the predictions. It then compares these predictions against the true labels to calculate metrics such as accuracy, a detailed classification report, and a confusion matrix. These metrics provide a comprehensive overview of each model's performance, highlighting their effectiveness in classifying fashion items. By evaluating both models in succession, we can directly compare their predictive accuracies and understand the impact of different architectural decisions on model performance.\n",
        "\n",
        "\n",
        "\n",
        "\n",
        "\n",
        "\n"
      ]
    },
    {
      "cell_type": "code",
      "execution_count": null,
      "metadata": {
        "colab": {
          "base_uri": "https://localhost:8080/"
        },
        "id": "okjmMIwhkED7",
        "outputId": "fd26ac9c-8889-4ab2-90c0-5a13df56b4a1"
      },
      "outputs": [
        {
          "name": "stdout",
          "output_type": "stream",
          "text": [
            "\n",
            "---------------MLP MODEL---------------\n",
            "\n",
            "Accuracy: 0.85825\n",
            "Classification Report:\n",
            "               precision    recall  f1-score   support\n",
            "\n",
            "           0     0.7914    0.8571    0.8229      1239\n",
            "           1     0.9896    0.9590    0.9741      1196\n",
            "           2     0.7719    0.7952    0.7834      1196\n",
            "           3     0.8288    0.8969    0.8615      1193\n",
            "           4     0.7478    0.8099    0.7776      1157\n",
            "           5     0.9285    0.9338    0.9311      1209\n",
            "           6     0.7129    0.5402    0.6147      1218\n",
            "           7     0.9027    0.9137    0.9081      1228\n",
            "           8     0.9553    0.9528    0.9541      1166\n",
            "           9     0.9440    0.9282    0.9360      1198\n",
            "\n",
            "    accuracy                         0.8582     12000\n",
            "   macro avg     0.8573    0.8587    0.8564     12000\n",
            "weighted avg     0.8571    0.8582    0.8560     12000\n",
            "\n",
            "Confusion Matrix:\n",
            " [[1062    2   22   66    0    1   73    0   13    0]\n",
            " [   1 1147    7   33    4    0    4    0    0    0]\n",
            " [  16    1  951   11  134    1   76    0    6    0]\n",
            " [  42    7   15 1070   44    0   13    0    2    0]\n",
            " [   3    0   93   43  937    0   77    0    4    0]\n",
            " [   1    0    0    1    0 1129    1   49    5   23]\n",
            " [ 213    2  137   60  129    0  658    0   19    0]\n",
            " [   0    0    0    0    0   60    0 1122    3   43]\n",
            " [   4    0    7    7    5    4   21    7 1111    0]\n",
            " [   0    0    0    0    0   21    0   65    0 1112]]\n",
            "\n",
            "---------------CNN MODEL---------------\n",
            "\n",
            "Accuracy: 0.9086666666666666\n",
            "Classification Report:\n",
            "               precision    recall  f1-score   support\n",
            "\n",
            "           0     0.8127    0.9177    0.8620      1239\n",
            "           1     0.9932    0.9816    0.9874      1196\n",
            "           2     0.8195    0.9147    0.8645      1196\n",
            "           3     0.8976    0.9262    0.9117      1193\n",
            "           4     0.8311    0.8591    0.8449      1157\n",
            "           5     0.9875    0.9777    0.9825      1209\n",
            "           6     0.8439    0.6034    0.7037      1218\n",
            "           7     0.9522    0.9739    0.9630      1228\n",
            "           8     0.9852    0.9708    0.9780      1166\n",
            "           9     0.9755    0.9641    0.9698      1198\n",
            "\n",
            "    accuracy                         0.9087     12000\n",
            "   macro avg     0.9098    0.9089    0.9067     12000\n",
            "weighted avg     0.9097    0.9087    0.9065     12000\n",
            "\n",
            "Confusion Matrix:\n",
            " [[1137    0   24   33    0    1   40    0    4    0]\n",
            " [   0 1174    1   17    1    0    3    0    0    0]\n",
            " [  15    1 1094    9   53    0   24    0    0    0]\n",
            " [  19    6    6 1105   35    0   20    0    2    0]\n",
            " [   3    1   82   35  994    0   40    0    2    0]\n",
            " [   0    0    0    1    0 1182    0   17    1    8]\n",
            " [ 217    0  123   26  110    0  735    0    7    0]\n",
            " [   0    0    0    0    0   10    0 1196    1   21]\n",
            " [   8    0    5    5    3    3    9    1 1132    0]\n",
            " [   0    0    0    0    0    1    0   42    0 1155]]\n"
          ]
        }
      ],
      "source": [
        "from sklearn.metrics import accuracy_score, classification_report, confusion_matrix\n",
        "import torch\n",
        "\n",
        "# Function to evaluate the model on the validation set\n",
        "def evaluate_model(data_loader, model):\n",
        "    model.eval()  # Set the model to evaluation mode\n",
        "    y_true = []\n",
        "    y_preds = []\n",
        "\n",
        "    # Collect all labels and model outputs\n",
        "    with torch.no_grad():\n",
        "        for images, labels in data_loader:\n",
        "            images, labels = images.to(device), labels.to(device)\n",
        "            outputs = model(images)\n",
        "            if isinstance(outputs, tuple):\n",
        "                outputs = outputs[0]  # If the model returns a tuple, select only the logits\n",
        "            _, predicted = torch.max(outputs, 1)  # Get the index of the max log-probability\n",
        "            y_preds.extend(predicted.view(-1).cpu().numpy())  # Store predictions\n",
        "            y_true.extend(labels.cpu().numpy())\n",
        "\n",
        "    # Calculate accuracy\n",
        "    accuracy = accuracy_score(y_true, y_preds)\n",
        "    print(\"Accuracy:\", accuracy)\n",
        "    print(\"Classification Report:\\n\", classification_report(y_true, y_preds, digits=4))\n",
        "    print(\"Confusion Matrix:\\n\", confusion_matrix(y_true, y_preds))\n",
        "\n",
        "    return accuracy\n",
        "\n",
        "# Assuming `model` (MLP) and `cnn_model` are already defined and imported correctly\n",
        "# Evaluate MLP model\n",
        "print(\"\\n---------------MLP MODEL---------------\\n\")\n",
        "mlp_accuracy = evaluate_model(validation_loader, model)\n",
        "# Evaluate CNN model\n",
        "print(\"\\n---------------CNN MODEL---------------\\n\")\n",
        "cnn_accuracy = evaluate_model(validation_loader, cnn_model)"
      ]
    }
  ],
  "metadata": {
    "accelerator": "GPU",
    "colab": {
      "gpuType": "T4",
      "provenance": []
    },
    "kernelspec": {
      "display_name": "Python 3",
      "name": "python3"
    },
    "language_info": {
      "name": "python"
    }
  },
  "nbformat": 4,
  "nbformat_minor": 0
}